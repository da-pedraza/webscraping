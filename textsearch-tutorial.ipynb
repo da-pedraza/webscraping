{
 "cells": [
  {
   "cell_type": "code",
   "execution_count": 3,
   "metadata": {},
   "outputs": [],
   "source": [
    "# Importing required libraries\n",
    "\n",
    "from pymongo import MongoClient\n",
    "from pymongo import TEXT"
   ]
  },
  {
   "cell_type": "code",
   "execution_count": 4,
   "metadata": {},
   "outputs": [],
   "source": [
    "# Creating a connection to MongoDB\n",
    "client = MongoClient('192.168.30.114', 27017)\n",
    "db = client['news']\n",
    "collection = db['elespectador']"
   ]
  },
  {
   "cell_type": "code",
   "execution_count": 5,
   "metadata": {},
   "outputs": [
    {
     "data": {
      "text/plain": [
       "'title_text_summary_text_full_text_text'"
      ]
     },
     "execution_count": 5,
     "metadata": {},
     "output_type": "execute_result"
    }
   ],
   "source": [
    "# Creating a text index over all text fields\n",
    "collection.create_index([('title', TEXT), ('summary', TEXT), ('full_text', TEXT)], default_language = 'spanish')"
   ]
  },
  {
   "cell_type": "code",
   "execution_count": 8,
   "metadata": {},
   "outputs": [
    {
     "data": {
      "text/plain": [
       "[{'title': '‘Ya no somos de Uribe o de Santos’: Dilian Francisca Toro sobre cambios en la U',\n",
       "  'summary': 'La directora del partido habló sobre los cambios en la colectividad y las razones que impulsaron a definirse como un partido de centro. También dio cuenta de las razones para que Caterine Ibargüen lidere sus listas.',\n",
       "  'full_text': 'Dilian Francisca Toro, exgobernadora del Valle del Cauca, asumió la dirección del partido justo cuando este perdió a varios de sus grandes electores, entre ellos Roy Barreras y Armando Benedetti. También tuvo una disminución en algunas de sus fichas en el Estado. Por eso, tal parece que la estrategia pasa por entrar con fuerza a las candidaturas de centro, un espectro que ha ganado terreno en las últimas encuestas. Lea también: “Sería injusto que se me tilde por el pasado del partido”: Caterine Ibargüen'}]"
      ]
     },
     "execution_count": 8,
     "metadata": {},
     "output_type": "execute_result"
    }
   ],
   "source": [
    "list(collection.find({'$text': {'$search': 'uribe'}}, {'_id': 0, 'summary': 1, 'title': 1, 'full_text': 1,}))"
   ]
  },
  {
   "cell_type": "code",
   "execution_count": null,
   "metadata": {},
   "outputs": [],
   "source": []
  }
 ],
 "metadata": {
  "kernelspec": {
   "display_name": "Python 3",
   "language": "python",
   "name": "python3"
  },
  "language_info": {
   "codemirror_mode": {
    "name": "ipython",
    "version": 3
   },
   "file_extension": ".py",
   "mimetype": "text/x-python",
   "name": "python",
   "nbconvert_exporter": "python",
   "pygments_lexer": "ipython3",
   "version": "3.8.8"
  }
 },
 "nbformat": 4,
 "nbformat_minor": 4
}
