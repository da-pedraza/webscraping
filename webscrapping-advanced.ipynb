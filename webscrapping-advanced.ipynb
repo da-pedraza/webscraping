{
 "cells": [
  {
   "cell_type": "code",
   "execution_count": 1,
   "metadata": {},
   "outputs": [],
   "source": [
    "# Importing required libraries\n",
    "\n",
    "import time\n",
    "import requests\n",
    "from bs4 import BeautifulSoup\n",
    "from selenium import webdriver\n",
    "from selenium.webdriver.firefox.options import Options\n",
    "from selenium.webdriver.firefox.firefox_binary import FirefoxBinary\n",
    "from datetime import datetime\n",
    "\n",
    "\n",
    "from pymongo import MongoClient"
   ]
  },
  {
   "cell_type": "code",
   "execution_count": 2,
   "metadata": {},
   "outputs": [],
   "source": [
    "# Creating a connection to MongoDB\n",
    "client = MongoClient('192.168.30.114', 27017)\n",
    "db = client['news']\n",
    "collection = db['elespectador']"
   ]
  },
  {
   "cell_type": "code",
   "execution_count": 3,
   "metadata": {},
   "outputs": [],
   "source": [
    "# Base URL of the site to be analyzed\n",
    "SITE_URL = 'https://www.elespectador.com'"
   ]
  },
  {
   "cell_type": "code",
   "execution_count": 4,
   "metadata": {},
   "outputs": [],
   "source": [
    "# Firefox web driver path\n",
    "# Download the driver for you S.O. here: https://github.com/mozilla/geckodriver/releases\n",
    "options = Options()\n",
    "options.headless = True\n",
    "options.binary_location = '/usr/bin/firefox'\n",
    "DRIVER_PATH = './geckodriver'\n",
    "firefox_profile = webdriver.FirefoxProfile()\n",
    "firefox_profile.set_preference(\"browser.privatebrowsing.autostart\", True)"
   ]
  },
  {
   "cell_type": "code",
   "execution_count": 5,
   "metadata": {},
   "outputs": [],
   "source": [
    "# Creating a new firefox window\n",
    "browser = webdriver.Firefox(executable_path = DRIVER_PATH, options=options, firefox_profile=firefox_profile)"
   ]
  },
  {
   "cell_type": "code",
   "execution_count": 6,
   "metadata": {},
   "outputs": [],
   "source": [
    "def make_request(browser, relative_path):\n",
    "    # Making the request and rendering the browser\n",
    "    browser.get(SITE_URL + relative_path)\n",
    "    \n",
    "    # Simulating vertical scrolling for handling lazy load\n",
    "    check_height = browser.execute_script('return document.body.scrollHeight;')\n",
    "    while True:\n",
    "        browser.execute_script('window.scrollTo(0, document.body.scrollHeight);')\n",
    "        time.sleep(3)\n",
    "        height = browser.execute_script('return document.body.scrollHeight;')\n",
    "        if height == check_height: \n",
    "            break \n",
    "        check_height = height\n",
    "    \n",
    "    # Getting HTML content and passing it to BeautifulSoup for scraping analysis\n",
    "    return BeautifulSoup(browser.page_source, 'html.parser')"
   ]
  },
  {
   "cell_type": "code",
   "execution_count": 9,
   "metadata": {},
   "outputs": [
    {
     "data": {
      "text/plain": [
       "300"
      ]
     },
     "execution_count": 9,
     "metadata": {},
     "output_type": "execute_result"
    }
   ],
   "source": [
    "news = []\n",
    "blocks = []\n",
    "category = [\"politica\", \"economia\", \"deportes\", \"bogota\", \"judicial\"]\n",
    "page = 0\n",
    "#category = [\"politica\"]\n",
    "\n",
    "def getPath(category):\n",
    "    for i in range(5):\n",
    "        if i == 0:\n",
    "            #soup = make_request(browser, f'/archivo/{category}/')\n",
    "        else:\n",
    "        soup = make_request(browser, f'/archivo/{category}/{i + 2}')\n",
    "        layout = soup.find(class_ = 'Layout-flexAds')\n",
    "        blocks = layout.find_all('section')\n",
    "        cards = blocks[0].find_all(class_ = 'Card') + blocks[1].find_all(class_ = 'Card') \n",
    "\n",
    "        for card in cards:\n",
    "            news.append({\n",
    "                'title': card.find('h2', class_ = 'Card-Title').find('a').get_text(),\n",
    "                'relative_path': card.find('h2', class_ = 'Card-Title').find('a')['href'],\n",
    "                'category': category\n",
    "            })\n",
    "            \n",
    "for i in category:\n",
    "    getPath(i)\n",
    "    \n",
    "len(news)"
   ]
  },
  {
   "cell_type": "code",
   "execution_count": null,
   "metadata": {},
   "outputs": [],
   "source": [
    "for n in news:\n",
    "    # Getting HTML content for news page\n",
    "    soup = make_request(browser, n['relative_path'])\n",
    "    \n",
    "    # Extracting news metadata\n",
    "    date_time_str = soup.find(class_ = 'ArticleHeader-Date')\n",
    "    if date_time_str is not None:\n",
    "        date_time_str = date_time_str.get_text()\n",
    "        date = date_time_str.replace('.','')\n",
    "        date = date.replace('-','')\n",
    "        date = date.replace('\\xa0','')\n",
    "        index = len(date) - 3\n",
    "        if len(date) > index:\n",
    "            date = date[0 : index : ] + date[index + 1 : :]\n",
    "        date_time_obj = datetime.strptime(date, '%d %b %Y %I:%M%p')\n",
    "    n['datetime'] = date_time_obj\n",
    "    #n['author'] = soup.find(class_ = 'ACredit-Author').find('a')\n",
    "    #if n['author'] is not None:\n",
    "        #n['author'] = n['author'].get_text()\n",
    "    n['summary'] = soup.find(class_ = 'ArticleHeader-Hook').find('div')\n",
    "    if n['summary'] is not None:\n",
    "        n['summary'] = n['summary'].get_text()\n",
    "    \n",
    "    # Extracting and concatenating news full text\n",
    "    paragraphs = soup.find_all(class_ = 'font--secondary')\n",
    "    n['full_text'] = ' '.join([p.get_text() for p in paragraphs])"
   ]
  },
  {
   "cell_type": "code",
   "execution_count": null,
   "metadata": {},
   "outputs": [],
   "source": [
    "len(news)"
   ]
  },
  {
   "cell_type": "code",
   "execution_count": null,
   "metadata": {},
   "outputs": [],
   "source": [
    "# Storing extracted information for further analysis\n",
    "collection.insert_many(news)"
   ]
  },
  {
   "cell_type": "code",
   "execution_count": null,
   "metadata": {},
   "outputs": [],
   "source": []
  },
  {
   "cell_type": "code",
   "execution_count": null,
   "metadata": {},
   "outputs": [],
   "source": []
  },
  {
   "cell_type": "code",
   "execution_count": null,
   "metadata": {},
   "outputs": [],
   "source": []
  },
  {
   "cell_type": "code",
   "execution_count": null,
   "metadata": {},
   "outputs": [],
   "source": []
  }
 ],
 "metadata": {
  "kernelspec": {
   "display_name": "Python 3",
   "language": "python",
   "name": "python3"
  },
  "language_info": {
   "codemirror_mode": {
    "name": "ipython",
    "version": 3
   },
   "file_extension": ".py",
   "mimetype": "text/x-python",
   "name": "python",
   "nbconvert_exporter": "python",
   "pygments_lexer": "ipython3",
   "version": "3.8.8"
  }
 },
 "nbformat": 4,
 "nbformat_minor": 4
}
