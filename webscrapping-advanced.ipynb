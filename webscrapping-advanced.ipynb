{
 "cells": [
  {
   "cell_type": "code",
   "execution_count": 9,
   "metadata": {},
   "outputs": [],
   "source": [
    "# Importing required libraries\n",
    "\n",
    "import time\n",
    "import requests\n",
    "from bs4 import BeautifulSoup\n",
    "from selenium import webdriver\n",
    "from selenium.webdriver.firefox.options import Options\n",
    "from selenium.webdriver.firefox.firefox_binary import FirefoxBinary\n",
    "from datetime import datetime\n",
    "\n",
    "\n",
    "from pymongo import MongoClient"
   ]
  },
  {
   "cell_type": "code",
   "execution_count": 10,
   "metadata": {},
   "outputs": [],
   "source": [
    "# Creating a connection to MongoDB\n",
    "client = MongoClient('192.168.30.114', 27017)\n",
    "db = client['news']\n",
    "collection = db['elespectador']"
   ]
  },
  {
   "cell_type": "code",
   "execution_count": 11,
   "metadata": {},
   "outputs": [],
   "source": [
    "# Base URL of the site to be analyzed\n",
    "SITE_URL = 'https://www.elespectador.com'"
   ]
  },
  {
   "cell_type": "code",
   "execution_count": 12,
   "metadata": {},
   "outputs": [],
   "source": [
    "# Firefox web driver path\n",
    "# Download the driver for you S.O. here: https://github.com/mozilla/geckodriver/releases\n",
    "options = Options()\n",
    "#options.binary_location = r'C:\\Program Files\\Mozilla Firefox\\firefox.exe'\n",
    "options.headless = True\n",
    "options.binary_location = '/usr/bin/firefox'\n",
    "DRIVER_PATH = './geckodriver'\n",
    "firefox_profile = webdriver.FirefoxProfile()\n",
    "firefox_profile.set_preference(\"browser.privatebrowsing.autostart\", True)\n",
    "#DRIVER_PATH = 'I:\\Escritorio\\geckodriver\\geckodriver.exe'"
   ]
  },
  {
   "cell_type": "code",
   "execution_count": 13,
   "metadata": {},
   "outputs": [],
   "source": [
    "# Creating a new firefox window\n",
    "browser = webdriver.Firefox(executable_path = DRIVER_PATH, options=options, firefox_profile=firefox_profile)"
   ]
  },
  {
   "cell_type": "code",
   "execution_count": 14,
   "metadata": {},
   "outputs": [],
   "source": [
    "def make_request(browser, relative_path):\n",
    "    # Making the request and rendering the browser\n",
    "    browser.get(SITE_URL + relative_path)\n",
    "    \n",
    "    # Simulating vertical scrolling for handling lazy load\n",
    "    check_height = browser.execute_script('return document.body.scrollHeight;')\n",
    "    while True:\n",
    "        browser.execute_script('window.scrollTo(0, document.body.scrollHeight);')\n",
    "        time.sleep(3)\n",
    "        height = browser.execute_script('return document.body.scrollHeight;')\n",
    "        if height == check_height: \n",
    "            break \n",
    "        check_height = height\n",
    "    \n",
    "    # Getting HTML content and passing it to BeautifulSoup for scraping analysis\n",
    "    return BeautifulSoup(browser.page_source, 'html.parser')"
   ]
  },
  {
   "cell_type": "code",
   "execution_count": 15,
   "metadata": {},
   "outputs": [
    {
     "data": {
      "text/plain": [
       "100"
      ]
     },
     "execution_count": 15,
     "metadata": {},
     "output_type": "execute_result"
    }
   ],
   "source": [
    "news = []\n",
    "blocks = []\n",
    "category = [\"politica\", \"economia\", \"deportes\", \"bogota\", \"judicial\"]\n",
    "#category = [\"politica\"]\n",
    "\n",
    "def getPath(category):\n",
    "    for i in range(2):\n",
    "        if i == 0:\n",
    "            soup = make_request(browser, f'/archivo/{category}/')\n",
    "        else:\n",
    "            soup = make_request(browser, f'/archivo/{category}/{i + 1}')\n",
    "        layout = soup.find(class_ = 'Layout-flexAds')\n",
    "        blocks = layout.find_all('section')\n",
    "        #print(len(blocks))\n",
    "        cards = blocks[0].find_all(class_ = 'Card') + blocks[1].find_all(class_ = 'Card') \n",
    "        #print(len(cards))\n",
    "\n",
    "        for card in cards:\n",
    "            news.append({\n",
    "                'title': card.find('h2', class_ = 'Card-Title').find('a').get_text(),\n",
    "                'relative_path': card.find('h2', class_ = 'Card-Title').find('a')['href']\n",
    "            })\n",
    "            \n",
    "for i in category:\n",
    "    #print(i)\n",
    "    getPath(i)\n",
    "    \n",
    "len(news)\n",
    "    #print(f\"Soy el numero {i + 2}\")"
   ]
  },
  {
   "cell_type": "code",
   "execution_count": null,
   "metadata": {},
   "outputs": [],
   "source": [
    "def rreplace(s, old, new, occurrence):\n",
    "    li = s.rsplit(old, occurrence)\n",
    "    return new.join(li)"
   ]
  },
  {
   "cell_type": "code",
   "execution_count": null,
   "metadata": {},
   "outputs": [],
   "source": [
    "for n in news:\n",
    "    # Getting HTML content for news page\n",
    "    soup = make_request(browser, n['relative_path'])\n",
    "    \n",
    "    # Extracting news metadata\n",
    "    #date_time_str = soup.find(class_ = 'ArticleHeader-Date').get_text()\n",
    "    #print(date_time_str)\n",
    "    #date_time_str = rreplace(date_time_str, '.', '', p.count('.') - 1)\n",
    "    #print(date_time_str)\n",
    "    #date_time_obj = datetime.strptime(date_time_str, '%d/%m/%y')\n",
    "    #print(date_time_obj)\n",
    "    n['datetime'] = soup.find(class_ = 'ArticleHeader-Date').get_text()\n",
    "    n['author'] = soup.find(class_ = 'ACredit-Author').find('a')\n",
    "    if n['author'] is not None:\n",
    "        #print(\"Existe\")\n",
    "        n['author'] = n['author'].get_text()\n",
    "    n['summary'] = soup.find(class_ = 'ArticleHeader-Hook').find('div').get_text()\n",
    "    #n['category'] = soup.find(class_ = 'ACredit-Hook').find('div').get_text()\n",
    "    \n",
    "    # Extracting and concatenating news full text\n",
    "    paragraphs = soup.find_all(class_ = 'font--secondary')\n",
    "    n['full_text'] = ' '.join([p.get_text() for p in paragraphs])"
   ]
  },
  {
   "cell_type": "code",
   "execution_count": null,
   "metadata": {},
   "outputs": [],
   "source": [
    "news"
   ]
  },
  {
   "cell_type": "code",
   "execution_count": null,
   "metadata": {},
   "outputs": [],
   "source": [
    "# Storing extracted information for further analysis\n",
    "collection.insert_many(news)"
   ]
  },
  {
   "cell_type": "code",
   "execution_count": null,
   "metadata": {},
   "outputs": [],
   "source": []
  },
  {
   "cell_type": "code",
   "execution_count": null,
   "metadata": {},
   "outputs": [],
   "source": []
  },
  {
   "cell_type": "code",
   "execution_count": null,
   "metadata": {},
   "outputs": [],
   "source": []
  },
  {
   "cell_type": "code",
   "execution_count": null,
   "metadata": {},
   "outputs": [],
   "source": []
  }
 ],
 "metadata": {
  "kernelspec": {
   "display_name": "Python 3",
   "language": "python",
   "name": "python3"
  },
  "language_info": {
   "codemirror_mode": {
    "name": "ipython",
    "version": 3
   },
   "file_extension": ".py",
   "mimetype": "text/x-python",
   "name": "python",
   "nbconvert_exporter": "python",
   "pygments_lexer": "ipython3",
   "version": "3.8.8"
  }
 },
 "nbformat": 4,
 "nbformat_minor": 4
}
